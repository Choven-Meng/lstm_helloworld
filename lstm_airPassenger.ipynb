{
 "cells": [
  {
   "cell_type": "code",
   "execution_count": 1,
   "metadata": {},
   "outputs": [
    {
     "name": "stderr",
     "output_type": "stream",
     "text": [
      "Using TensorFlow backend.\n"
     ]
    }
   ],
   "source": [
    "import pandas as pd\n",
    "import numpy as np\n",
    "import matplotlib.pyplot as plt\n",
    "from sklearn.preprocessing import MinMaxScaler\n",
    "from keras.models import Sequential\n",
    "from keras.layers import LSTM, Dense, Activation"
   ]
  },
  {
   "cell_type": "code",
   "execution_count": 2,
   "metadata": {},
   "outputs": [],
   "source": [
    "def create_model():\n",
    "    model = Sequential()\n",
    "    #输入数据的shape为(n_samples, timestamps, features)\n",
    "    #隐藏层设置为256, input_shape元组第二个参数1意指features为1\n",
    "    #下面还有个lstm，故return_sequences设置为True\n",
    "    model.add(LSTM(units=256,input_shape=(None,1),return_sequences=True))\n",
    "    model.add(LSTM(units=256))\n",
    "    #后接全连接层，直接输出单个值，故units为1\n",
    "    model.add(Dense(units=1))\n",
    "    model.add(Activation('linear'))\n",
    "    model.compile(loss='mse',optimizer='adam')\n",
    "    return model"
   ]
  },
  {
   "cell_type": "code",
   "execution_count": 3,
   "metadata": {},
   "outputs": [],
   "source": [
    "df = pd.read_csv('international-airline-passengers.csv',usecols=['passengers'])"
   ]
  },
  {
   "cell_type": "markdown",
   "metadata": {},
   "source": [
    "# 数据归一化后分成序列"
   ]
  },
  {
   "cell_type": "markdown",
   "metadata": {},
   "source": [
    "lstm处理数据之间一定要归一化，不然效果很差"
   ]
  },
  {
   "cell_type": "code",
   "execution_count": 5,
   "metadata": {},
   "outputs": [],
   "source": [
    "scaler_minmax = MinMaxScaler()\n",
    "data = scaler_minmax.fit_transform(df)\n",
    "infer_seq_length = 10#用于推断的历史序列长度\n",
    "\n",
    "d = []\n",
    "for i in range(data.shape[0]-infer_seq_length):\n",
    "    d.append(data[i:i+infer_seq_length+1].tolist())\n",
    "d = np.array(d)"
   ]
  },
  {
   "cell_type": "markdown",
   "metadata": {},
   "source": [
    "# 划分训练集"
   ]
  },
  {
   "cell_type": "code",
   "execution_count": 6,
   "metadata": {},
   "outputs": [],
   "source": [
    "split_rate = 0.9\n",
    "X_train, y_train = d[:int(d.shape[0]*split_rate),:-1], d[:int(d.shape[0]*split_rate),-1]"
   ]
  },
  {
   "cell_type": "markdown",
   "metadata": {},
   "source": [
    "# 创建训练模型"
   ]
  },
  {
   "cell_type": "code",
   "execution_count": 7,
   "metadata": {},
   "outputs": [],
   "source": [
    "model =create_model()"
   ]
  },
  {
   "cell_type": "code",
   "execution_count": 8,
   "metadata": {},
   "outputs": [
    {
     "name": "stdout",
     "output_type": "stream",
     "text": [
      "Train on 108 samples, validate on 12 samples\n",
      "Epoch 1/100\n",
      "108/108 [==============================] - 1s 13ms/step - loss: 0.0480 - val_loss: 0.0269\n",
      "Epoch 2/100\n",
      "108/108 [==============================] - 0s 2ms/step - loss: 0.0170 - val_loss: 0.0748\n",
      "Epoch 3/100\n",
      "108/108 [==============================] - 0s 2ms/step - loss: 0.0135 - val_loss: 0.0277\n",
      "Epoch 4/100\n",
      "108/108 [==============================] - 0s 2ms/step - loss: 0.0106 - val_loss: 0.0312\n",
      "Epoch 5/100\n",
      "108/108 [==============================] - 0s 2ms/step - loss: 0.0090 - val_loss: 0.0274\n",
      "Epoch 6/100\n",
      "108/108 [==============================] - 0s 2ms/step - loss: 0.0079 - val_loss: 0.0255\n",
      "Epoch 7/100\n",
      "108/108 [==============================] - 0s 2ms/step - loss: 0.0078 - val_loss: 0.0291\n",
      "Epoch 8/100\n",
      "108/108 [==============================] - 0s 2ms/step - loss: 0.0091 - val_loss: 0.0244\n",
      "Epoch 9/100\n",
      "108/108 [==============================] - 0s 2ms/step - loss: 0.0077 - val_loss: 0.0239\n",
      "Epoch 10/100\n",
      "108/108 [==============================] - 0s 2ms/step - loss: 0.0074 - val_loss: 0.0254\n",
      "Epoch 11/100\n",
      "108/108 [==============================] - 0s 3ms/step - loss: 0.0080 - val_loss: 0.0241\n",
      "Epoch 12/100\n",
      "108/108 [==============================] - 0s 3ms/step - loss: 0.0075 - val_loss: 0.0233\n",
      "Epoch 13/100\n",
      "108/108 [==============================] - 0s 3ms/step - loss: 0.0073 - val_loss: 0.0264\n",
      "Epoch 14/100\n",
      "108/108 [==============================] - 0s 2ms/step - loss: 0.0078 - val_loss: 0.0228\n",
      "Epoch 15/100\n",
      "108/108 [==============================] - 0s 2ms/step - loss: 0.0072 - val_loss: 0.0252\n",
      "Epoch 16/100\n",
      "108/108 [==============================] - 0s 3ms/step - loss: 0.0074 - val_loss: 0.0237\n",
      "Epoch 17/100\n",
      "108/108 [==============================] - 0s 3ms/step - loss: 0.0074 - val_loss: 0.0222\n",
      "Epoch 18/100\n",
      "108/108 [==============================] - 0s 2ms/step - loss: 0.0077 - val_loss: 0.0222\n",
      "Epoch 19/100\n",
      "108/108 [==============================] - 0s 2ms/step - loss: 0.0069 - val_loss: 0.0227\n",
      "Epoch 20/100\n",
      "108/108 [==============================] - 0s 2ms/step - loss: 0.0069 - val_loss: 0.0218\n",
      "Epoch 21/100\n",
      "108/108 [==============================] - 0s 3ms/step - loss: 0.0075 - val_loss: 0.0216\n",
      "Epoch 22/100\n",
      "108/108 [==============================] - 0s 2ms/step - loss: 0.0071 - val_loss: 0.0219\n",
      "Epoch 23/100\n",
      "108/108 [==============================] - 0s 3ms/step - loss: 0.0067 - val_loss: 0.0210\n",
      "Epoch 24/100\n",
      "108/108 [==============================] - 0s 3ms/step - loss: 0.0067 - val_loss: 0.0217\n",
      "Epoch 25/100\n",
      "108/108 [==============================] - 0s 3ms/step - loss: 0.0064 - val_loss: 0.0201\n",
      "Epoch 26/100\n",
      "108/108 [==============================] - 0s 3ms/step - loss: 0.0064 - val_loss: 0.0203\n",
      "Epoch 27/100\n",
      "108/108 [==============================] - 0s 3ms/step - loss: 0.0063 - val_loss: 0.0196\n",
      "Epoch 28/100\n",
      "108/108 [==============================] - 0s 2ms/step - loss: 0.0065 - val_loss: 0.0204\n",
      "Epoch 29/100\n",
      "108/108 [==============================] - 0s 3ms/step - loss: 0.0071 - val_loss: 0.0184\n",
      "Epoch 30/100\n",
      "108/108 [==============================] - 0s 3ms/step - loss: 0.0062 - val_loss: 0.0180\n",
      "Epoch 31/100\n",
      "108/108 [==============================] - 0s 2ms/step - loss: 0.0058 - val_loss: 0.0199\n",
      "Epoch 32/100\n",
      "108/108 [==============================] - 0s 3ms/step - loss: 0.0061 - val_loss: 0.0171\n",
      "Epoch 33/100\n",
      "108/108 [==============================] - 0s 3ms/step - loss: 0.0058 - val_loss: 0.0171\n",
      "Epoch 34/100\n",
      "108/108 [==============================] - 0s 2ms/step - loss: 0.0055 - val_loss: 0.0165\n",
      "Epoch 35/100\n",
      "108/108 [==============================] - 0s 3ms/step - loss: 0.0059 - val_loss: 0.0179\n",
      "Epoch 36/100\n",
      "108/108 [==============================] - 0s 3ms/step - loss: 0.0057 - val_loss: 0.0146\n",
      "Epoch 37/100\n",
      "108/108 [==============================] - 0s 2ms/step - loss: 0.0058 - val_loss: 0.0232\n",
      "Epoch 38/100\n",
      "108/108 [==============================] - 0s 3ms/step - loss: 0.0072 - val_loss: 0.0136\n",
      "Epoch 39/100\n",
      "108/108 [==============================] - 0s 3ms/step - loss: 0.0056 - val_loss: 0.0169\n",
      "Epoch 40/100\n",
      "108/108 [==============================] - 0s 3ms/step - loss: 0.0051 - val_loss: 0.0139\n",
      "Epoch 41/100\n",
      "108/108 [==============================] - 0s 2ms/step - loss: 0.0044 - val_loss: 0.0130\n",
      "Epoch 42/100\n",
      "108/108 [==============================] - 0s 2ms/step - loss: 0.0043 - val_loss: 0.0113\n",
      "Epoch 43/100\n",
      "108/108 [==============================] - 0s 2ms/step - loss: 0.0040 - val_loss: 0.0124\n",
      "Epoch 44/100\n",
      "108/108 [==============================] - 0s 3ms/step - loss: 0.0039 - val_loss: 0.0102\n",
      "Epoch 45/100\n",
      "108/108 [==============================] - 0s 3ms/step - loss: 0.0038 - val_loss: 0.0110\n",
      "Epoch 46/100\n",
      "108/108 [==============================] - 0s 3ms/step - loss: 0.0037 - val_loss: 0.0125\n",
      "Epoch 47/100\n",
      "108/108 [==============================] - 0s 3ms/step - loss: 0.0038 - val_loss: 0.0097\n",
      "Epoch 48/100\n",
      "108/108 [==============================] - 0s 3ms/step - loss: 0.0034 - val_loss: 0.0111\n",
      "Epoch 49/100\n",
      "108/108 [==============================] - 0s 3ms/step - loss: 0.0037 - val_loss: 0.0085\n",
      "Epoch 50/100\n",
      "108/108 [==============================] - 0s 3ms/step - loss: 0.0040 - val_loss: 0.0120\n",
      "Epoch 51/100\n",
      "108/108 [==============================] - 0s 2ms/step - loss: 0.0035 - val_loss: 0.0086\n",
      "Epoch 52/100\n",
      "108/108 [==============================] - 0s 3ms/step - loss: 0.0036 - val_loss: 0.0090\n",
      "Epoch 53/100\n",
      "108/108 [==============================] - 0s 3ms/step - loss: 0.0034 - val_loss: 0.0078\n",
      "Epoch 54/100\n",
      "108/108 [==============================] - 0s 3ms/step - loss: 0.0036 - val_loss: 0.0096\n",
      "Epoch 55/100\n",
      "108/108 [==============================] - 0s 3ms/step - loss: 0.0037 - val_loss: 0.0085\n",
      "Epoch 56/100\n",
      "108/108 [==============================] - 0s 2ms/step - loss: 0.0035 - val_loss: 0.0077\n",
      "Epoch 57/100\n",
      "108/108 [==============================] - 0s 3ms/step - loss: 0.0030 - val_loss: 0.0077\n",
      "Epoch 58/100\n",
      "108/108 [==============================] - 0s 3ms/step - loss: 0.0031 - val_loss: 0.0119\n",
      "Epoch 59/100\n",
      "108/108 [==============================] - 0s 3ms/step - loss: 0.0031 - val_loss: 0.0069\n",
      "Epoch 60/100\n",
      "108/108 [==============================] - 0s 3ms/step - loss: 0.0030 - val_loss: 0.0075\n",
      "Epoch 61/100\n",
      "108/108 [==============================] - 0s 3ms/step - loss: 0.0028 - val_loss: 0.0073\n",
      "Epoch 62/100\n",
      "108/108 [==============================] - 0s 3ms/step - loss: 0.0028 - val_loss: 0.0070\n",
      "Epoch 63/100\n",
      "108/108 [==============================] - 0s 3ms/step - loss: 0.0028 - val_loss: 0.0067\n",
      "Epoch 64/100\n",
      "108/108 [==============================] - 0s 3ms/step - loss: 0.0028 - val_loss: 0.0099\n",
      "Epoch 65/100\n",
      "108/108 [==============================] - 0s 3ms/step - loss: 0.0029 - val_loss: 0.0067\n",
      "Epoch 66/100\n",
      "108/108 [==============================] - 0s 3ms/step - loss: 0.0026 - val_loss: 0.0072\n",
      "Epoch 67/100\n",
      "108/108 [==============================] - 0s 3ms/step - loss: 0.0025 - val_loss: 0.0078\n",
      "Epoch 68/100\n",
      "108/108 [==============================] - 0s 2ms/step - loss: 0.0026 - val_loss: 0.0062\n",
      "Epoch 69/100\n",
      "108/108 [==============================] - 0s 3ms/step - loss: 0.0026 - val_loss: 0.0082\n",
      "Epoch 70/100\n",
      "108/108 [==============================] - 0s 3ms/step - loss: 0.0025 - val_loss: 0.0058\n",
      "Epoch 71/100\n",
      "108/108 [==============================] - 0s 3ms/step - loss: 0.0025 - val_loss: 0.0087\n",
      "Epoch 72/100\n",
      "108/108 [==============================] - 0s 3ms/step - loss: 0.0025 - val_loss: 0.0072\n",
      "Epoch 73/100\n",
      "108/108 [==============================] - 0s 3ms/step - loss: 0.0027 - val_loss: 0.0062\n",
      "Epoch 74/100\n",
      "108/108 [==============================] - 0s 2ms/step - loss: 0.0024 - val_loss: 0.0066\n",
      "Epoch 75/100\n",
      "108/108 [==============================] - 0s 2ms/step - loss: 0.0024 - val_loss: 0.0057\n",
      "Epoch 76/100\n",
      "108/108 [==============================] - 0s 3ms/step - loss: 0.0026 - val_loss: 0.0081\n",
      "Epoch 77/100\n",
      "108/108 [==============================] - 0s 3ms/step - loss: 0.0026 - val_loss: 0.0082\n",
      "Epoch 78/100\n",
      "108/108 [==============================] - 0s 3ms/step - loss: 0.0026 - val_loss: 0.0062\n",
      "Epoch 79/100\n",
      "108/108 [==============================] - 0s 3ms/step - loss: 0.0025 - val_loss: 0.0109\n",
      "Epoch 80/100\n",
      "108/108 [==============================] - 0s 2ms/step - loss: 0.0030 - val_loss: 0.0057\n"
     ]
    },
    {
     "name": "stdout",
     "output_type": "stream",
     "text": [
      "Epoch 81/100\n",
      "108/108 [==============================] - 0s 3ms/step - loss: 0.0025 - val_loss: 0.0063\n",
      "Epoch 82/100\n",
      "108/108 [==============================] - 0s 2ms/step - loss: 0.0024 - val_loss: 0.0066\n",
      "Epoch 83/100\n",
      "108/108 [==============================] - 0s 2ms/step - loss: 0.0023 - val_loss: 0.0058\n",
      "Epoch 84/100\n",
      "108/108 [==============================] - 0s 3ms/step - loss: 0.0025 - val_loss: 0.0097\n",
      "Epoch 85/100\n",
      "108/108 [==============================] - 0s 3ms/step - loss: 0.0026 - val_loss: 0.0059\n",
      "Epoch 86/100\n",
      "108/108 [==============================] - 0s 3ms/step - loss: 0.0026 - val_loss: 0.0088\n",
      "Epoch 87/100\n",
      "108/108 [==============================] - 0s 3ms/step - loss: 0.0027 - val_loss: 0.0061\n",
      "Epoch 88/100\n",
      "108/108 [==============================] - 0s 3ms/step - loss: 0.0023 - val_loss: 0.0070\n",
      "Epoch 89/100\n",
      "108/108 [==============================] - 0s 2ms/step - loss: 0.0022 - val_loss: 0.0061\n",
      "Epoch 90/100\n",
      "108/108 [==============================] - 0s 3ms/step - loss: 0.0025 - val_loss: 0.0066\n",
      "Epoch 91/100\n",
      "108/108 [==============================] - 0s 2ms/step - loss: 0.0023 - val_loss: 0.0062\n",
      "Epoch 92/100\n",
      "108/108 [==============================] - 0s 2ms/step - loss: 0.0023 - val_loss: 0.0063\n",
      "Epoch 93/100\n",
      "108/108 [==============================] - 0s 3ms/step - loss: 0.0023 - val_loss: 0.0074\n",
      "Epoch 94/100\n",
      "108/108 [==============================] - 0s 3ms/step - loss: 0.0022 - val_loss: 0.0066\n",
      "Epoch 95/100\n",
      "108/108 [==============================] - 0s 2ms/step - loss: 0.0023 - val_loss: 0.0064\n",
      "Epoch 96/100\n",
      "108/108 [==============================] - 0s 3ms/step - loss: 0.0022 - val_loss: 0.0071\n",
      "Epoch 97/100\n",
      "108/108 [==============================] - 0s 3ms/step - loss: 0.0022 - val_loss: 0.0061\n",
      "Epoch 98/100\n",
      "108/108 [==============================] - 0s 2ms/step - loss: 0.0022 - val_loss: 0.0069\n",
      "Epoch 99/100\n",
      "108/108 [==============================] - 0s 3ms/step - loss: 0.0022 - val_loss: 0.0066\n",
      "Epoch 100/100\n",
      "108/108 [==============================] - 0s 2ms/step - loss: 0.0021 - val_loss: 0.0084\n"
     ]
    },
    {
     "data": {
      "text/plain": [
       "<keras.callbacks.History at 0x1b39b464748>"
      ]
     },
     "execution_count": 8,
     "metadata": {},
     "output_type": "execute_result"
    }
   ],
   "source": [
    "model.fit(X_train, y_train, batch_size=20,epochs=100,validation_split=0.1)"
   ]
  },
  {
   "cell_type": "markdown",
   "metadata": {},
   "source": [
    "# 预测结果"
   ]
  },
  {
   "cell_type": "code",
   "execution_count": 9,
   "metadata": {
    "scrolled": true
   },
   "outputs": [
    {
     "data": {
      "text/plain": [
       "<matplotlib.legend.Legend at 0x1b39f993ba8>"
      ]
     },
     "execution_count": 9,
     "metadata": {},
     "output_type": "execute_result"
    },
    {
     "data": {
      "image/png": "[encoded data removed]",
      "text/plain": [
       "<Figure size 432x288 with 1 Axes>"
      ]
     },
     "metadata": {},
     "output_type": "display_data"
    }
   ],
   "source": [
    "#inverse_transform获得归一化前的原始数据\n",
    "plt.plot(scaler_minmax.inverse_transform(d[:,-1]),label='true data')\n",
    "plt.plot(scaler_minmax.inverse_transform(model.predict(d[:,:-1])),'r:',label='predict')\n",
    "plt.legend()"
   ]
  },
  {
   "cell_type": "code",
   "execution_count": 12,
   "metadata": {},
   "outputs": [
    {
     "data": {
      "text/plain": [
       "<matplotlib.legend.Legend at 0x1b39fba1940>"
      ]
     },
     "execution_count": 12,
     "metadata": {},
     "output_type": "execute_result"
    },
    {
     "data": {
      "image/png": "[encoded data removed]",
      "text/plain": [
       "<Figure size 432x288 with 1 Axes>"
      ]
     },
     "metadata": {},
     "output_type": "display_data"
    }
   ],
   "source": [
    "plt.plot()\n",
    "plt.plot(scaler_minmax.inverse_transform(d[int(len(d)*split_rate):,-1]),label='true data')\n",
    "plt.plot(scaler_minmax.inverse_transform(model.predict(d[int(len(d)*split_rate):,:-1])),'r:',label='predict')\n",
    "plt.legend()"
   ]
  },
  {
   "cell_type": "code",
   "execution_count": null,
   "metadata": {},
   "outputs": [],
   "source": []
  }
 ],
 "metadata": {
  "kernelspec": {
   "display_name": "Python 3",
   "language": "python",
   "name": "python3"
  },
  "language_info": {
   "codemirror_mode": {
    "name": "ipython",
    "version": 3
   },
   "file_extension": ".py",
   "mimetype": "text/x-python",
   "name": "python",
   "nbconvert_exporter": "python",
   "pygments_lexer": "ipython3",
   "version": "3.6.5"
  },
  "toc": {
   "base_numbering": 1,
   "nav_menu": {},
   "number_sections": true,
   "sideBar": true,
   "skip_h1_title": false,
   "title_cell": "Table of Contents",
   "title_sidebar": "Contents",
   "toc_cell": false,
   "toc_position": {},
   "toc_section_display": true,
   "toc_window_display": false
  }
 },
 "nbformat": 4,
 "nbformat_minor": 2
}
